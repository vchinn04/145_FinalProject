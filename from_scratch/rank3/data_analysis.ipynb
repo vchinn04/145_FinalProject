{
 "cells": [
  {
   "cell_type": "code",
   "execution_count": 2,
   "id": "ed606951",
   "metadata": {},
   "outputs": [],
   "source": [
    "from utils import load_json"
   ]
  },
  {
   "cell_type": "code",
   "execution_count": 14,
   "id": "small-holmes",
   "metadata": {},
   "outputs": [
    {
     "data": {
      "text/plain": [
       "(160, 73835)"
      ]
     },
     "execution_count": 14,
     "metadata": {},
     "output_type": "execute_result"
    }
   ],
   "source": [
    "train = load_json(base, 'train/train_author.json')#train_author中一共有160个名字\n",
    "train_pub = load_json(base, 'train/train_pub.json')\n",
    "\n",
    "len(train),len(train_pub)"
   ]
  },
  {
   "cell_type": "code",
   "execution_count": 15,
   "id": "hearing-russia",
   "metadata": {},
   "outputs": [],
   "source": [
    "train_aid = set()\n",
    "train_pid = set()\n",
    "for i in train:\n",
    "    for k in list(train[i].keys()):\n",
    "        train_aid.add(k)\n",
    "    for v in list(train[i].values()):\n",
    "        for j in v:\n",
    "            train_pid.add(j)"
   ]
  },
  {
   "cell_type": "code",
   "execution_count": 16,
   "id": "mathematical-flexibility",
   "metadata": {},
   "outputs": [
    {
     "data": {
      "text/plain": [
       "(2595, 73835)"
      ]
     },
     "execution_count": 16,
     "metadata": {},
     "output_type": "execute_result"
    }
   ],
   "source": [
    "len(train_aid),len(train_pid)#train_author.json中共有2595位作者，名字有160个，train_author.json论文数目73835，与train_pub中对应"
   ]
  },
  {
   "cell_type": "code",
   "execution_count": 17,
   "id": "medium-folks",
   "metadata": {},
   "outputs": [],
   "source": [
    "coname_length = {}\n",
    "\n",
    "for i in train:\n",
    "    coname_length[i] = (len(train[i]))"
   ]
  },
  {
   "cell_type": "code",
   "execution_count": 18,
   "id": "supported-median",
   "metadata": {},
   "outputs": [],
   "source": [
    "coname_len = sorted([(k,v) for k,v in coname_length.items()],key=lambda x: x[1])\n",
    "#trian中重名最少的是('guanhua_du', 1)，最多的是('wei_chen', 96)"
   ]
  },
  {
   "cell_type": "code",
   "execution_count": 19,
   "id": "integrated-kuwait",
   "metadata": {},
   "outputs": [
    {
     "data": {
      "text/plain": [
       "16.21875"
      ]
     },
     "execution_count": 19,
     "metadata": {},
     "output_type": "execute_result"
    }
   ],
   "source": [
    "sum([v for v in coname_length.values()])/len(coname_len)#同名作者均值16.2"
   ]
  },
  {
   "cell_type": "code",
   "execution_count": 20,
   "id": "occasional-vulnerability",
   "metadata": {},
   "outputs": [],
   "source": [
    "alon_pubs = {}\n",
    "for i in train:\n",
    "    for k in list(train[i].keys()):\n",
    "        alon_pubs[k] = len(train[i][k])"
   ]
  },
  {
   "cell_type": "code",
   "execution_count": 21,
   "id": "round-angola",
   "metadata": {},
   "outputs": [
    {
     "name": "stdout",
     "output_type": "stream",
     "text": [
      "('8N4yGrlD', 5)\n",
      "('RnilQMMR', 602)\n"
     ]
    }
   ],
   "source": [
    "aid2pubs = sorted([(k,v) for k,v in alon_pubs.items()],key=lambda x: x[1])\n",
    "print(aid2pubs[0])\n",
    "print(aid2pubs[-1])\n",
    "#trian中作者发表最少的是('8N4yGrlD', 5)，最多的是('RnilQMMR', 602)"
   ]
  },
  {
   "cell_type": "code",
   "execution_count": 22,
   "id": "brutal-israeli",
   "metadata": {},
   "outputs": [
    {
     "data": {
      "text/plain": [
       "28.56146435452794"
      ]
     },
     "execution_count": 22,
     "metadata": {},
     "output_type": "execute_result"
    }
   ],
   "source": [
    "sum([v for v in alon_pubs.values()])/len(alon_pubs)#平均发表28.56"
   ]
  },
  {
   "cell_type": "code",
   "execution_count": 23,
   "id": "lasting-shower",
   "metadata": {},
   "outputs": [],
   "source": [
    "co_pubs = {}\n",
    "for i in train:\n",
    "    count = 0\n",
    "    for k in list(train[i].keys()):\n",
    "        count += len(train[i][k])\n",
    "    co_pubs[i] = count"
   ]
  },
  {
   "cell_type": "code",
   "execution_count": 24,
   "id": "three-testing",
   "metadata": {},
   "outputs": [
    {
     "name": "stdout",
     "output_type": "stream",
     "text": [
      "('hao_du', 49)\n",
      "('wei_chen', 2911)\n"
     ]
    }
   ],
   "source": [
    "name2pubs = sorted([(k,v) for k,v in co_pubs.items()],key=lambda x: x[1])\n",
    "print(name2pubs[0])\n",
    "print(name2pubs[-1])\n",
    "#trian中叫hao_du的作者发表最少的是('hao_du', 49)，最多的是('wei_chen', 2911)"
   ]
  },
  {
   "cell_type": "code",
   "execution_count": 25,
   "id": "pharmaceutical-activity",
   "metadata": {},
   "outputs": [
    {
     "data": {
      "text/plain": [
       "463.23125"
      ]
     },
     "execution_count": 25,
     "metadata": {},
     "output_type": "execute_result"
    }
   ],
   "source": [
    "sum([v for v in co_pubs.values()])/len(co_pubs)#平均发表463.23125"
   ]
  },
  {
   "cell_type": "code",
   "execution_count": 26,
   "id": "danish-quality",
   "metadata": {},
   "outputs": [],
   "source": [
    "import pandas as pd\n",
    "df_pubs = pd.DataFrame(train_pub)"
   ]
  },
  {
   "cell_type": "code",
   "execution_count": 27,
   "id": "multiple-demonstration",
   "metadata": {},
   "outputs": [],
   "source": [
    "df_pubs = df_pubs.T"
   ]
  },
  {
   "cell_type": "code",
   "execution_count": 28,
   "id": "developed-bracelet",
   "metadata": {},
   "outputs": [],
   "source": [
    "df_pubs.index = range(df_pubs.shape[0])"
   ]
  },
  {
   "cell_type": "code",
   "execution_count": 29,
   "id": "future-tribute",
   "metadata": {},
   "outputs": [
    {
     "data": {
      "text/html": [
       "<div>\n",
       "<style scoped>\n",
       "    .dataframe tbody tr th:only-of-type {\n",
       "        vertical-align: middle;\n",
       "    }\n",
       "\n",
       "    .dataframe tbody tr th {\n",
       "        vertical-align: top;\n",
       "    }\n",
       "\n",
       "    .dataframe thead th {\n",
       "        text-align: right;\n",
       "    }\n",
       "</style>\n",
       "<table border=\"1\" class=\"dataframe\">\n",
       "  <thead>\n",
       "    <tr style=\"text-align: right;\">\n",
       "      <th></th>\n",
       "      <th>id</th>\n",
       "      <th>title</th>\n",
       "      <th>abstract</th>\n",
       "      <th>keywords</th>\n",
       "      <th>authors</th>\n",
       "      <th>venue</th>\n",
       "      <th>year</th>\n",
       "    </tr>\n",
       "  </thead>\n",
       "  <tbody>\n",
       "    <tr>\n",
       "      <th>0</th>\n",
       "      <td>QDMcmF8V</td>\n",
       "      <td>A 1H-NMR plasma metabonomic study of acute and...</td>\n",
       "      <td>To investigate and compare the metabonomic pro...</td>\n",
       "      <td>[AcAc, BCAAs, β-HB, CPMG, CUMS, D, O, FST, Leu...</td>\n",
       "      <td>[{'name': 'Biyun Shi', 'org': 'College of Chem...</td>\n",
       "      <td>Behavioural Brain Research</td>\n",
       "      <td>2013</td>\n",
       "    </tr>\n",
       "    <tr>\n",
       "      <th>1</th>\n",
       "      <td>o731Ylil</td>\n",
       "      <td>Analysis of the mechanisms underlying the vaso...</td>\n",
       "      <td>The aim of the present study was to evaluate t...</td>\n",
       "      <td>[Coptisine, Vasorelaxation, Aorta, Endothelium...</td>\n",
       "      <td>[{'name': 'Li-Li Gong', 'org': 'Chinese Acad M...</td>\n",
       "      <td>AMERICAN JOURNAL OF CHINESE MEDICINE</td>\n",
       "      <td>2012</td>\n",
       "    </tr>\n",
       "    <tr>\n",
       "      <th>2</th>\n",
       "      <td>YRDwwNV5</td>\n",
       "      <td>Correlation between Effect of Icariin on Learn...</td>\n",
       "      <td>Objective:To probe the correlation between the...</td>\n",
       "      <td>[icariin, learning and memory, senescence acce...</td>\n",
       "      <td>[{'name': 'ZHOU Wei-qin', 'org': 'Institute of...</td>\n",
       "      <td>Chinese Journal of Experimental Traditional Me...</td>\n",
       "      <td>2009</td>\n",
       "    </tr>\n",
       "    <tr>\n",
       "      <th>3</th>\n",
       "      <td>YgYV6410</td>\n",
       "      <td>Cloning and expression of human lectin-like ox...</td>\n",
       "      <td>Lectin-like oxidatively-modified LDL receptor-...</td>\n",
       "      <td>[heterologous expression, LOX-1, Pichia pastor...</td>\n",
       "      <td>[{'name': 'Zhentai Huang', 'org': 'Department ...</td>\n",
       "      <td>Biotechnology LettersFEBS Lett.Arterioscler. T...</td>\n",
       "      <td>2005</td>\n",
       "    </tr>\n",
       "    <tr>\n",
       "      <th>4</th>\n",
       "      <td>atC3Wbnp</td>\n",
       "      <td>Ramulus Cinnamomi extract attenuates neuroinfl...</td>\n",
       "      <td>Ramulus Cinnamomi (RC), a traditional Chinese ...</td>\n",
       "      <td>[BV2 cells, Ramulus Cinnamomi, TLR4/ MyD88 sig...</td>\n",
       "      <td>[{'name': 'Huan Yang', 'org': 'Beijing Key Lab...</td>\n",
       "      <td>Neural regeneration research</td>\n",
       "      <td>2017</td>\n",
       "    </tr>\n",
       "  </tbody>\n",
       "</table>\n",
       "</div>"
      ],
      "text/plain": [
       "         id                                              title  \\\n",
       "0  QDMcmF8V  A 1H-NMR plasma metabonomic study of acute and...   \n",
       "1  o731Ylil  Analysis of the mechanisms underlying the vaso...   \n",
       "2  YRDwwNV5  Correlation between Effect of Icariin on Learn...   \n",
       "3  YgYV6410  Cloning and expression of human lectin-like ox...   \n",
       "4  atC3Wbnp  Ramulus Cinnamomi extract attenuates neuroinfl...   \n",
       "\n",
       "                                            abstract  \\\n",
       "0  To investigate and compare the metabonomic pro...   \n",
       "1  The aim of the present study was to evaluate t...   \n",
       "2  Objective:To probe the correlation between the...   \n",
       "3  Lectin-like oxidatively-modified LDL receptor-...   \n",
       "4  Ramulus Cinnamomi (RC), a traditional Chinese ...   \n",
       "\n",
       "                                            keywords  \\\n",
       "0  [AcAc, BCAAs, β-HB, CPMG, CUMS, D, O, FST, Leu...   \n",
       "1  [Coptisine, Vasorelaxation, Aorta, Endothelium...   \n",
       "2  [icariin, learning and memory, senescence acce...   \n",
       "3  [heterologous expression, LOX-1, Pichia pastor...   \n",
       "4  [BV2 cells, Ramulus Cinnamomi, TLR4/ MyD88 sig...   \n",
       "\n",
       "                                             authors  \\\n",
       "0  [{'name': 'Biyun Shi', 'org': 'College of Chem...   \n",
       "1  [{'name': 'Li-Li Gong', 'org': 'Chinese Acad M...   \n",
       "2  [{'name': 'ZHOU Wei-qin', 'org': 'Institute of...   \n",
       "3  [{'name': 'Zhentai Huang', 'org': 'Department ...   \n",
       "4  [{'name': 'Huan Yang', 'org': 'Beijing Key Lab...   \n",
       "\n",
       "                                               venue  year  \n",
       "0                         Behavioural Brain Research  2013  \n",
       "1               AMERICAN JOURNAL OF CHINESE MEDICINE  2012  \n",
       "2  Chinese Journal of Experimental Traditional Me...  2009  \n",
       "3  Biotechnology LettersFEBS Lett.Arterioscler. T...  2005  \n",
       "4                       Neural regeneration research  2017  "
      ]
     },
     "execution_count": 29,
     "metadata": {},
     "output_type": "execute_result"
    }
   ],
   "source": [
    "df_pubs.head()"
   ]
  },
  {
   "cell_type": "code",
   "execution_count": 30,
   "id": "second-fashion",
   "metadata": {},
   "outputs": [
    {
     "data": {
      "text/plain": [
       "15"
      ]
     },
     "execution_count": 30,
     "metadata": {},
     "output_type": "execute_result"
    }
   ],
   "source": [
    "len(df_pubs.loc[0,'title'].split())"
   ]
  },
  {
   "cell_type": "code",
   "execution_count": 31,
   "id": "thermal-lender",
   "metadata": {},
   "outputs": [],
   "source": [
    "df_pubs['title_len'] = df_pubs['title'].apply(lambda x: len(x.split()))"
   ]
  },
  {
   "cell_type": "code",
   "execution_count": 32,
   "id": "sorted-danger",
   "metadata": {},
   "outputs": [],
   "source": [
    "df_pubs['abstract_len'] = df_pubs['abstract'].apply(lambda x: len(x.split()))"
   ]
  },
  {
   "cell_type": "code",
   "execution_count": 33,
   "id": "confident-diana",
   "metadata": {},
   "outputs": [],
   "source": [
    "df_pubs['num_keywds'] = df_pubs['keywords'].apply(lambda x: len(x))"
   ]
  },
  {
   "cell_type": "code",
   "execution_count": 34,
   "id": "convinced-tuesday",
   "metadata": {},
   "outputs": [],
   "source": [
    "df_pubs['num_author'] = df_pubs['authors'].apply(lambda x: len(x))"
   ]
  },
  {
   "cell_type": "code",
   "execution_count": 160,
   "id": "patent-staff",
   "metadata": {},
   "outputs": [
    {
     "data": {
      "text/html": [
       "<div>\n",
       "<style scoped>\n",
       "    .dataframe tbody tr th:only-of-type {\n",
       "        vertical-align: middle;\n",
       "    }\n",
       "\n",
       "    .dataframe tbody tr th {\n",
       "        vertical-align: top;\n",
       "    }\n",
       "\n",
       "    .dataframe thead th {\n",
       "        text-align: right;\n",
       "    }\n",
       "</style>\n",
       "<table border=\"1\" class=\"dataframe\">\n",
       "  <thead>\n",
       "    <tr style=\"text-align: right;\">\n",
       "      <th></th>\n",
       "      <th>title_len</th>\n",
       "      <th>abstract_len</th>\n",
       "      <th>num_keywds</th>\n",
       "      <th>num_author</th>\n",
       "    </tr>\n",
       "  </thead>\n",
       "  <tbody>\n",
       "    <tr>\n",
       "      <td>count</td>\n",
       "      <td>73835.000000</td>\n",
       "      <td>73835.000000</td>\n",
       "      <td>73835.000000</td>\n",
       "      <td>73835.000000</td>\n",
       "    </tr>\n",
       "    <tr>\n",
       "      <td>mean</td>\n",
       "      <td>12.934922</td>\n",
       "      <td>139.540408</td>\n",
       "      <td>3.824744</td>\n",
       "      <td>5.969405</td>\n",
       "    </tr>\n",
       "    <tr>\n",
       "      <td>std</td>\n",
       "      <td>4.691245</td>\n",
       "      <td>329.065581</td>\n",
       "      <td>4.552476</td>\n",
       "      <td>3.721309</td>\n",
       "    </tr>\n",
       "    <tr>\n",
       "      <td>min</td>\n",
       "      <td>1.000000</td>\n",
       "      <td>0.000000</td>\n",
       "      <td>0.000000</td>\n",
       "      <td>1.000000</td>\n",
       "    </tr>\n",
       "    <tr>\n",
       "      <td>25%</td>\n",
       "      <td>10.000000</td>\n",
       "      <td>41.000000</td>\n",
       "      <td>0.000000</td>\n",
       "      <td>4.000000</td>\n",
       "    </tr>\n",
       "    <tr>\n",
       "      <td>50%</td>\n",
       "      <td>12.000000</td>\n",
       "      <td>121.000000</td>\n",
       "      <td>4.000000</td>\n",
       "      <td>5.000000</td>\n",
       "    </tr>\n",
       "    <tr>\n",
       "      <td>75%</td>\n",
       "      <td>16.000000</td>\n",
       "      <td>184.000000</td>\n",
       "      <td>5.000000</td>\n",
       "      <td>7.000000</td>\n",
       "    </tr>\n",
       "    <tr>\n",
       "      <td>max</td>\n",
       "      <td>101.000000</td>\n",
       "      <td>14971.000000</td>\n",
       "      <td>93.000000</td>\n",
       "      <td>50.000000</td>\n",
       "    </tr>\n",
       "  </tbody>\n",
       "</table>\n",
       "</div>"
      ],
      "text/plain": [
       "          title_len  abstract_len    num_keywds    num_author\n",
       "count  73835.000000  73835.000000  73835.000000  73835.000000\n",
       "mean      12.934922    139.540408      3.824744      5.969405\n",
       "std        4.691245    329.065581      4.552476      3.721309\n",
       "min        1.000000      0.000000      0.000000      1.000000\n",
       "25%       10.000000     41.000000      0.000000      4.000000\n",
       "50%       12.000000    121.000000      4.000000      5.000000\n",
       "75%       16.000000    184.000000      5.000000      7.000000\n",
       "max      101.000000  14971.000000     93.000000     50.000000"
      ]
     },
     "execution_count": 160,
     "metadata": {},
     "output_type": "execute_result"
    }
   ],
   "source": [
    "df_pubs.describe()"
   ]
  },
  {
   "cell_type": "code",
   "execution_count": 35,
   "id": "naval-parameter",
   "metadata": {},
   "outputs": [
    {
     "data": {
      "text/plain": [
       "count    73835.000000\n",
       "mean        12.934922\n",
       "std          4.691245\n",
       "min          1.000000\n",
       "25%         10.000000\n",
       "50%         12.000000\n",
       "75%         16.000000\n",
       "max        101.000000\n",
       "Name: title_len, dtype: float64"
      ]
     },
     "execution_count": 35,
     "metadata": {},
     "output_type": "execute_result"
    }
   ],
   "source": [
    "df_pubs.title_len.describe()"
   ]
  },
  {
   "cell_type": "code",
   "execution_count": null,
   "id": "supreme-leader",
   "metadata": {},
   "outputs": [],
   "source": []
  },
  {
   "cell_type": "code",
   "execution_count": 37,
   "id": "peaceful-comparative",
   "metadata": {},
   "outputs": [
    {
     "data": {
      "text/plain": [
       "(80, 46287)"
      ]
     },
     "execution_count": 37,
     "metadata": {},
     "output_type": "execute_result"
    }
   ],
   "source": [
    "valid_pub = load_json(base, 'sna-valid/sna_valid_pub.json')\n",
    "valid = load_json(base, 'sna-valid/sna_valid_raw.json')\n",
    "len(valid),len(valid_pub)"
   ]
  },
  {
   "cell_type": "code",
   "execution_count": 38,
   "id": "cubic-jurisdiction",
   "metadata": {},
   "outputs": [],
   "source": [
    "valid_aid = set()\n",
    "valid_pid = set()\n",
    "for i in valid:\n",
    "    for j in valid[i]:\n",
    "        valid_pid.add(j)"
   ]
  },
  {
   "cell_type": "code",
   "execution_count": 39,
   "id": "metropolitan-roberts",
   "metadata": {},
   "outputs": [
    {
     "data": {
      "text/plain": [
       "46287"
      ]
     },
     "execution_count": 39,
     "metadata": {},
     "output_type": "execute_result"
    }
   ],
   "source": [
    "len(valid_pid)"
   ]
  },
  {
   "cell_type": "code",
   "execution_count": 40,
   "id": "dress-banana",
   "metadata": {},
   "outputs": [],
   "source": [
    "val_pubs = {}\n",
    "for i in valid:\n",
    "    val_pubs[i] = len(valid[i])"
   ]
  },
  {
   "cell_type": "code",
   "execution_count": 41,
   "id": "protecting-difficulty",
   "metadata": {},
   "outputs": [
    {
     "name": "stdout",
     "output_type": "stream",
     "text": [
      "('mang_wang', 335)\n",
      "('jun_wang', 1885)\n"
     ]
    }
   ],
   "source": [
    "val_name2pubs = sorted([(k,v) for k,v in val_pubs.items()],key=lambda x: x[1])\n",
    "print(val_name2pubs[0])\n",
    "print(val_name2pubs[-1])"
   ]
  },
  {
   "cell_type": "code",
   "execution_count": 42,
   "id": "aggressive-bulgaria",
   "metadata": {},
   "outputs": [
    {
     "data": {
      "text/plain": [
       "579.5875"
      ]
     },
     "execution_count": 42,
     "metadata": {},
     "output_type": "execute_result"
    }
   ],
   "source": [
    "sum([v for v in val_pubs.values()])/len(val_pubs)#平均发表463.23125"
   ]
  },
  {
   "cell_type": "code",
   "execution_count": null,
   "id": "permanent-eagle",
   "metadata": {},
   "outputs": [],
   "source": []
  },
  {
   "cell_type": "code",
   "execution_count": 43,
   "id": "humanitarian-oasis",
   "metadata": {},
   "outputs": [],
   "source": [
    "import pandas as pd\n",
    "df_pubs2 = pd.DataFrame(valid_pub)\n",
    "df_pubs2 = df_pubs2.T\n",
    "df_pubs2.index = range(df_pubs2.shape[0])"
   ]
  },
  {
   "cell_type": "code",
   "execution_count": 44,
   "id": "outstanding-southwest",
   "metadata": {},
   "outputs": [
    {
     "data": {
      "text/plain": [
       "(46287, 7)"
      ]
     },
     "execution_count": 44,
     "metadata": {},
     "output_type": "execute_result"
    }
   ],
   "source": [
    "df_pubs2.shape"
   ]
  },
  {
   "cell_type": "code",
   "execution_count": 45,
   "id": "developed-international",
   "metadata": {},
   "outputs": [],
   "source": [
    "df_pubs2['title_len'] = df_pubs2['title'].apply(lambda x: len(x.split()))\n",
    "df_pubs2['abstract_len'] = df_pubs2['abstract'].apply(lambda x: len(x.split()))\n",
    "df_pubs2['num_keywds'] = df_pubs2['keywords'].apply(lambda x: len(x))\n",
    "df_pubs2['num_author'] = df_pubs2['authors'].apply(lambda x: len(x))"
   ]
  },
  {
   "cell_type": "code",
   "execution_count": 46,
   "id": "resistant-growing",
   "metadata": {},
   "outputs": [
    {
     "data": {
      "text/html": [
       "<div>\n",
       "<style scoped>\n",
       "    .dataframe tbody tr th:only-of-type {\n",
       "        vertical-align: middle;\n",
       "    }\n",
       "\n",
       "    .dataframe tbody tr th {\n",
       "        vertical-align: top;\n",
       "    }\n",
       "\n",
       "    .dataframe thead th {\n",
       "        text-align: right;\n",
       "    }\n",
       "</style>\n",
       "<table border=\"1\" class=\"dataframe\">\n",
       "  <thead>\n",
       "    <tr style=\"text-align: right;\">\n",
       "      <th></th>\n",
       "      <th>title_len</th>\n",
       "      <th>abstract_len</th>\n",
       "      <th>num_keywds</th>\n",
       "      <th>num_author</th>\n",
       "    </tr>\n",
       "  </thead>\n",
       "  <tbody>\n",
       "    <tr>\n",
       "      <th>count</th>\n",
       "      <td>46287.000000</td>\n",
       "      <td>46287.000000</td>\n",
       "      <td>46287.000000</td>\n",
       "      <td>46287.000000</td>\n",
       "    </tr>\n",
       "    <tr>\n",
       "      <th>mean</th>\n",
       "      <td>13.038434</td>\n",
       "      <td>138.478731</td>\n",
       "      <td>3.783589</td>\n",
       "      <td>6.090479</td>\n",
       "    </tr>\n",
       "    <tr>\n",
       "      <th>std</th>\n",
       "      <td>4.744527</td>\n",
       "      <td>308.368958</td>\n",
       "      <td>4.365702</td>\n",
       "      <td>3.483193</td>\n",
       "    </tr>\n",
       "    <tr>\n",
       "      <th>min</th>\n",
       "      <td>1.000000</td>\n",
       "      <td>0.000000</td>\n",
       "      <td>0.000000</td>\n",
       "      <td>1.000000</td>\n",
       "    </tr>\n",
       "    <tr>\n",
       "      <th>25%</th>\n",
       "      <td>10.000000</td>\n",
       "      <td>45.000000</td>\n",
       "      <td>0.000000</td>\n",
       "      <td>4.000000</td>\n",
       "    </tr>\n",
       "    <tr>\n",
       "      <th>50%</th>\n",
       "      <td>12.000000</td>\n",
       "      <td>120.000000</td>\n",
       "      <td>4.000000</td>\n",
       "      <td>5.000000</td>\n",
       "    </tr>\n",
       "    <tr>\n",
       "      <th>75%</th>\n",
       "      <td>16.000000</td>\n",
       "      <td>180.000000</td>\n",
       "      <td>5.000000</td>\n",
       "      <td>7.000000</td>\n",
       "    </tr>\n",
       "    <tr>\n",
       "      <th>max</th>\n",
       "      <td>99.000000</td>\n",
       "      <td>12472.000000</td>\n",
       "      <td>82.000000</td>\n",
       "      <td>50.000000</td>\n",
       "    </tr>\n",
       "  </tbody>\n",
       "</table>\n",
       "</div>"
      ],
      "text/plain": [
       "          title_len  abstract_len    num_keywds    num_author\n",
       "count  46287.000000  46287.000000  46287.000000  46287.000000\n",
       "mean      13.038434    138.478731      3.783589      6.090479\n",
       "std        4.744527    308.368958      4.365702      3.483193\n",
       "min        1.000000      0.000000      0.000000      1.000000\n",
       "25%       10.000000     45.000000      0.000000      4.000000\n",
       "50%       12.000000    120.000000      4.000000      5.000000\n",
       "75%       16.000000    180.000000      5.000000      7.000000\n",
       "max       99.000000  12472.000000     82.000000     50.000000"
      ]
     },
     "execution_count": 46,
     "metadata": {},
     "output_type": "execute_result"
    }
   ],
   "source": [
    "df_pubs2.describe()"
   ]
  },
  {
   "cell_type": "code",
   "execution_count": null,
   "id": "parliamentary-probability",
   "metadata": {},
   "outputs": [],
   "source": []
  }
 ],
 "metadata": {
  "kernelspec": {
   "display_name": "Python 3.7.0 ('sna_rk3')",
   "language": "python",
   "name": "python3"
  },
  "language_info": {
   "codemirror_mode": {
    "name": "ipython",
    "version": 3
   },
   "file_extension": ".py",
   "mimetype": "text/x-python",
   "name": "python",
   "nbconvert_exporter": "python",
   "pygments_lexer": "ipython3",
   "version": "3.7.0"
  },
  "vscode": {
   "interpreter": {
    "hash": "f200c8fae6f69615c8104179502084ca63c63619cad99416db89eebeec10078f"
   }
  }
 },
 "nbformat": 4,
 "nbformat_minor": 5
}
